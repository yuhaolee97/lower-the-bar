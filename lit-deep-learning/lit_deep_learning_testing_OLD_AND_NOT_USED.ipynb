{
 "cells": [
  {
   "cell_type": "code",
   "execution_count": 48,
   "id": "10d7e5e2",
   "metadata": {},
   "outputs": [],
   "source": [
    "import numpy as np\n",
    "import pandas as pd\n",
    "import tensorflow as tf\n",
    "import pickle\n",
    "import tensorflow\n",
    "from tensorflow import keras\n",
    "from tensorflow.keras.preprocessing.sequence import pad_sequences\n",
    "import re\n",
    "from nltk.stem.porter import PorterStemmer"
   ]
  },
  {
   "cell_type": "code",
   "execution_count": 65,
   "id": "ca9ca255",
   "metadata": {},
   "outputs": [],
   "source": [
    "model = keras.models.load_model('saved_model')\n",
    "with open('tokenizer.pickle', 'rb') as handle:\n",
    "    tokenizer = pickle.load(handle)"
   ]
  },
  {
   "cell_type": "code",
   "execution_count": 67,
   "id": "66410adf",
   "metadata": {},
   "outputs": [],
   "source": [
    "Y_columns = ['Contract', 'Criminal', 'Family', 'Property', 'Tort_1', 'Tort_2']\n",
    "Y_columns = sorted(Y_columns)"
   ]
  },
  {
   "cell_type": "code",
   "execution_count": 66,
   "id": "a34d45cf",
   "metadata": {},
   "outputs": [],
   "source": [
    "ps = PorterStemmer()\n",
    "sequence_len = 20\n",
    "\n",
    "def model_predict(text):\n",
    "    print('@ Sentence input:', text)\n",
    "\n",
    "    text = re.sub('[^a-zA-Z]', ' ', text)\n",
    "    text = text.lower()\n",
    "    text = text.split()\n",
    "    text = [ps.stem(word) for word in text]\n",
    "    text = ' '.join(text)\n",
    "    \n",
    "    sequence = tokenizer.texts_to_sequences( [text] )[0]\n",
    "\n",
    "    if (len(sequence) == 0):\n",
    "        return Y_columns\n",
    "\n",
    "    if len(sequence) < sequence_len:\n",
    "        # sequence = [0] * (sequence_len - len(sequence)) + sequence\n",
    "        num_repeats = (sequence_len // len(sequence)) + 1\n",
    "        sequence = sequence * num_repeats\n",
    "#     print('@ sequence:', sequence)\n",
    "\n",
    "    sequences = []\n",
    "    num_sequences = len(sequence) // sequence_len\n",
    "    \n",
    "    for i in range(num_sequences):\n",
    "        start = sequence_len * i\n",
    "        end = sequence_len * (i + 1)\n",
    "        sequences.append(sequence[start:end])\n",
    "    \n",
    "    y_prob = model.predict(sequences)\n",
    "    y_avg_prob = list(np.average(y_prob, axis=0))\n",
    "\n",
    "    y_avg_prob_map = { Y_columns[i] : y_avg_prob[i] for i in range(len(y_avg_prob)) }\n",
    "#     print('Map:', y_avg_prob_map)\n",
    "\n",
    "    y_avg_prob_map_sorted = {k: v for k, v in sorted(y_avg_prob_map.items(), key=lambda x: x[1], reverse=True)}\n",
    "    print('Sorted Map:', y_avg_prob_map_sorted)\n",
    "    \n",
    "    category_list = list(y_avg_prob_map_sorted.keys())[0:2]\n",
    "#     print('Category list: ', category_list)\n",
    "\n",
    "    return category_list"
   ]
  },
  {
   "cell_type": "code",
   "execution_count": 76,
   "id": "b99abb6a",
   "metadata": {},
   "outputs": [
    {
     "name": "stdout",
     "output_type": "stream",
     "text": [
      "@ Sentence input: I wish to make a personal injury claim\n",
      "Sorted Map: {'Tort_2': 0.9994779, 'Contract': 0.0003865548, 'Property': 7.4390715e-05, 'Criminal': 4.254056e-05, 'Family': 1.781766e-05, 'Tort_1': 7.997987e-07}\n",
      "['Tort_2', 'Contract']\n",
      "@ Sentence input: I was threatened by the man earlier\n",
      "Sorted Map: {'Tort_2': 0.9993742, 'Criminal': 0.0003311706, 'Contract': 0.00013341244, 'Property': 0.00012338246, 'Tort_1': 3.1148287e-05, 'Family': 6.661747e-06}\n",
      "['Tort_2', 'Criminal']\n",
      "@ Sentence input: My employer neglected my well-being\n",
      "Sorted Map: {'Contract': 0.9886607, 'Family': 0.01096761, 'Criminal': 0.00032290703, 'Tort_2': 3.315172e-05, 'Property': 1.5195589e-05, 'Tort_1': 4.8031194e-07}\n",
      "['Contract', 'Family']\n",
      "@ Sentence input: I got into a traffic accident\n",
      "Sorted Map: {'Tort_2': 0.99970883, 'Criminal': 0.0001083983, 'Contract': 9.287373e-05, 'Property': 6.9599555e-05, 'Tort_1': 1.9526706e-05, 'Family': 7.433789e-07}\n",
      "['Tort_2', 'Criminal']\n",
      "@ Sentence input: My doctor did not prescribe the right medicine\n",
      "Sorted Map: {'Tort_2': 0.9997508, 'Property': 0.00015423926, 'Contract': 5.32164e-05, 'Criminal': 3.4761684e-05, 'Tort_1': 5.745486e-06, 'Family': 1.2854155e-06}\n",
      "['Tort_2', 'Property']\n"
     ]
    }
   ],
   "source": [
    "test_sentences = [\n",
    "#     'Divorcing my wife',\n",
    "#     'Abused by my husband',\n",
    "#     'I want to create a will',\n",
    "#     'Mental health dropping',\n",
    "#     'I wish to adopt a child',\n",
    "    \n",
    "#     'I have an employment issue',\n",
    "#     'Want to Claim insurance',\n",
    "#     'I took out a large loan',\n",
    "#     'I need some help on an investment I made',\n",
    "#     'I bought a product and need to use lemon law',\n",
    "    \n",
    "#     'I intend to buy a BTO house',\n",
    "#     'paying my mortgage',\n",
    "#     'I had a huge fight with my tenant. I am not sure what I should do. He keeps screaming at me and does not reply me',\n",
    "#     'I got sued for a copyright',\n",
    "#     'I had a will estate planning issue',\n",
    "    \n",
    "#     'I was harassed by some stranger on the street',\n",
    "#     'I received a defamation letter',\n",
    "#     'I have issues with privacy',\n",
    "#     'PDPA is a serious concern my company faces',\n",
    "#     'My neighbor keeps banging my door',\n",
    "    \n",
    "    'I wish to make a personal injury claim',\n",
    "    'I was threatened by the man earlier',\n",
    "    'My employer neglected my well-being',\n",
    "    'I got into a traffic accident',\n",
    "    'My doctor did not prescribe the right medicine',\n",
    "]\n",
    "\n",
    "for sentence in test_sentences:\n",
    "    print( model_predict(sentence) )"
   ]
  },
  {
   "cell_type": "code",
   "execution_count": null,
   "id": "2b537483",
   "metadata": {},
   "outputs": [],
   "source": []
  },
  {
   "cell_type": "code",
   "execution_count": null,
   "id": "7e0f4d51",
   "metadata": {},
   "outputs": [],
   "source": []
  }
 ],
 "metadata": {
  "kernelspec": {
   "display_name": "Python 3",
   "language": "python",
   "name": "python3"
  },
  "language_info": {
   "codemirror_mode": {
    "name": "ipython",
    "version": 3
   },
   "file_extension": ".py",
   "mimetype": "text/x-python",
   "name": "python",
   "nbconvert_exporter": "python",
   "pygments_lexer": "ipython3",
   "version": "3.8.5"
  }
 },
 "nbformat": 4,
 "nbformat_minor": 5
}
